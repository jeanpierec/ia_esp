{
 "cells": [
  {
   "cell_type": "markdown",
   "id": "3782bfce-f1e4-417c-ab3c-29cd22d119b4",
   "metadata": {},
   "source": [
    "# Airline Passenger Satisfation"
   ]
  },
  {
   "cell_type": "code",
   "execution_count": 1,
   "id": "537ef8a7-c053-40de-ac92-6eb546c53cc4",
   "metadata": {},
   "outputs": [
    {
     "name": "stdout",
     "output_type": "stream",
     "text": [
      "Utils load correctly\n"
     ]
    }
   ],
   "source": [
    "import sys\n",
    "sys.path.append('/utils/__init__.py')\n",
    "import utils\n",
    "\n",
    "utils.letsgo()"
   ]
  },
  {
   "cell_type": "code",
   "execution_count": null,
   "id": "44b03cb4-1cc8-4c34-a68d-7753996677a4",
   "metadata": {},
   "outputs": [],
   "source": []
  },
  {
   "cell_type": "code",
   "execution_count": 2,
   "id": "9a4fafd0-fd93-4585-8751-661bb3683071",
   "metadata": {},
   "outputs": [],
   "source": [
    "import pandas as pd\n",
    "import numpy as np\n",
    "import seaborn as sns\n",
    "\n",
    "# Save a palette to a variable:\n",
    "palette = sns.color_palette(\"bright\")\n",
    "sns.set_palette(palette)\n",
    "\n",
    "import matplotlib.pyplot as plt \n",
    "from matplotlib.ticker import ScalarFormatter\n",
    "\n",
    "%matplotlib inline \n",
    "sns.set(color_codes=True)\n",
    "\n",
    "# Machine learning\n",
    "from sklearn.linear_model import LinearRegression\n",
    "from sklearn.tree import DecisionTreeRegressor\n",
    "from sklearn.neighbors import KNeighborsRegressor\n",
    "from sklearn import tree\n",
    "from sklearn.metrics import mean_squared_error\n",
    "from sklearn.model_selection import train_test_split\n",
    "from sklearn.metrics import r2_score\n",
    "from sklearn import metrics\n",
    "from sklearn.ensemble import RandomForestRegressor\n",
    "from xgboost import XGBRegressor"
   ]
  },
  {
   "cell_type": "code",
   "execution_count": null,
   "id": "f19cfe76-8fb1-4d49-be59-079e01e301ed",
   "metadata": {},
   "outputs": [],
   "source": []
  }
 ],
 "metadata": {
  "kernelspec": {
   "display_name": "Python 3 (ipykernel)",
   "language": "python",
   "name": "python3"
  },
  "language_info": {
   "codemirror_mode": {
    "name": "ipython",
    "version": 3
   },
   "file_extension": ".py",
   "mimetype": "text/x-python",
   "name": "python",
   "nbconvert_exporter": "python",
   "pygments_lexer": "ipython3",
   "version": "3.9.16"
  }
 },
 "nbformat": 4,
 "nbformat_minor": 5
}
