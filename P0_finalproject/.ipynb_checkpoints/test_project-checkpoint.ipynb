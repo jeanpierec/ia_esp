{
 "cells": [
  {
   "cell_type": "code",
   "execution_count": 1,
   "id": "b27732c8",
   "metadata": {},
   "outputs": [],
   "source": [
    "import sys\n",
    "sys.path.append('/utils/__init__.py')\n",
    "import utils"
   ]
  },
  {
   "cell_type": "code",
   "execution_count": 2,
   "id": "f4a1b3f8",
   "metadata": {
    "scrolled": true
   },
   "outputs": [
    {
     "name": "stdout",
     "output_type": "stream",
     "text": [
      "Utils load correctly\n"
     ]
    }
   ],
   "source": [
    "utils.letsgo()"
   ]
  },
  {
   "cell_type": "markdown",
   "id": "63b1f235",
   "metadata": {},
   "source": [
    "## 1. BD connection test"
   ]
  },
  {
   "cell_type": "code",
   "execution_count": 3,
   "id": "39e9cc69",
   "metadata": {},
   "outputs": [],
   "source": [
    "conn = utils.bd_conn()"
   ]
  },
  {
   "cell_type": "code",
   "execution_count": 4,
   "id": "60b56e80",
   "metadata": {},
   "outputs": [
    {
     "data": {
      "text/plain": [
       "<connection object at 0x0000021BAB13D040; dsn: 'user=ljpcastroc password=xxx dbname=bd host=localhost port=5432', closed: 0>"
      ]
     },
     "execution_count": 4,
     "metadata": {},
     "output_type": "execute_result"
    }
   ],
   "source": [
    "conn"
   ]
  },
  {
   "cell_type": "code",
   "execution_count": 5,
   "id": "0dc457bf",
   "metadata": {},
   "outputs": [],
   "source": [
    "cur = utils.bd_cursor(conn)"
   ]
  },
  {
   "cell_type": "code",
   "execution_count": 6,
   "id": "c87c55de",
   "metadata": {},
   "outputs": [
    {
     "data": {
      "text/plain": [
       "<cursor object at 0x0000021BAB415900; closed: 0>"
      ]
     },
     "execution_count": 6,
     "metadata": {},
     "output_type": "execute_result"
    }
   ],
   "source": [
    "cur"
   ]
  },
  {
   "cell_type": "markdown",
   "id": "526c51a3",
   "metadata": {},
   "source": [
    "## 2. API Connection"
   ]
  },
  {
   "cell_type": "code",
   "execution_count": 9,
   "id": "a41b160b",
   "metadata": {},
   "outputs": [
    {
     "name": "stderr",
     "output_type": "stream",
     "text": [
      "WARNING:root:Requests made without an app_token will be subject to strict throttling limits.\n"
     ]
    },
    {
     "data": {
      "text/html": [
       "<div>\n",
       "<style scoped>\n",
       "    .dataframe tbody tr th:only-of-type {\n",
       "        vertical-align: middle;\n",
       "    }\n",
       "\n",
       "    .dataframe tbody tr th {\n",
       "        vertical-align: top;\n",
       "    }\n",
       "\n",
       "    .dataframe thead th {\n",
       "        text-align: right;\n",
       "    }\n",
       "</style>\n",
       "<table border=\"1\" class=\"dataframe\">\n",
       "  <thead>\n",
       "    <tr style=\"text-align: right;\">\n",
       "      <th></th>\n",
       "      <th>region</th>\n",
       "      <th>c_digo_dane_del_departamento</th>\n",
       "      <th>departamento</th>\n",
       "      <th>c_digo_dane_del_municipio</th>\n",
       "      <th>municipio</th>\n",
       "    </tr>\n",
       "  </thead>\n",
       "  <tbody>\n",
       "    <tr>\n",
       "      <th>0</th>\n",
       "      <td>Región Eje Cafetero - Antioquia</td>\n",
       "      <td>5</td>\n",
       "      <td>Antioquia</td>\n",
       "      <td>5.001</td>\n",
       "      <td>Medellín</td>\n",
       "    </tr>\n",
       "    <tr>\n",
       "      <th>1</th>\n",
       "      <td>Región Eje Cafetero - Antioquia</td>\n",
       "      <td>5</td>\n",
       "      <td>Antioquia</td>\n",
       "      <td>5.002</td>\n",
       "      <td>Abejorral</td>\n",
       "    </tr>\n",
       "    <tr>\n",
       "      <th>2</th>\n",
       "      <td>Región Eje Cafetero - Antioquia</td>\n",
       "      <td>5</td>\n",
       "      <td>Antioquia</td>\n",
       "      <td>5.004</td>\n",
       "      <td>Abriaquí</td>\n",
       "    </tr>\n",
       "    <tr>\n",
       "      <th>3</th>\n",
       "      <td>Región Eje Cafetero - Antioquia</td>\n",
       "      <td>5</td>\n",
       "      <td>Antioquia</td>\n",
       "      <td>5.021</td>\n",
       "      <td>Alejandría</td>\n",
       "    </tr>\n",
       "    <tr>\n",
       "      <th>4</th>\n",
       "      <td>Región Eje Cafetero - Antioquia</td>\n",
       "      <td>5</td>\n",
       "      <td>Antioquia</td>\n",
       "      <td>5.03</td>\n",
       "      <td>Amagá</td>\n",
       "    </tr>\n",
       "    <tr>\n",
       "      <th>...</th>\n",
       "      <td>...</td>\n",
       "      <td>...</td>\n",
       "      <td>...</td>\n",
       "      <td>...</td>\n",
       "      <td>...</td>\n",
       "    </tr>\n",
       "    <tr>\n",
       "      <th>1118</th>\n",
       "      <td>Región Eje Cafetero - Antioquia</td>\n",
       "      <td>17</td>\n",
       "      <td>Caldas</td>\n",
       "      <td>17.444</td>\n",
       "      <td>Marquetalia</td>\n",
       "    </tr>\n",
       "    <tr>\n",
       "      <th>1119</th>\n",
       "      <td>Región Pacífico</td>\n",
       "      <td>52</td>\n",
       "      <td>Nariño</td>\n",
       "      <td>52.051</td>\n",
       "      <td>Arboleda</td>\n",
       "    </tr>\n",
       "    <tr>\n",
       "      <th>1120</th>\n",
       "      <td>Región Pacífico</td>\n",
       "      <td>76</td>\n",
       "      <td>Valle del Cauca</td>\n",
       "      <td>76.109</td>\n",
       "      <td>Buenaventura</td>\n",
       "    </tr>\n",
       "    <tr>\n",
       "      <th>1121</th>\n",
       "      <td>Región Caribe</td>\n",
       "      <td>47</td>\n",
       "      <td>Magdalena</td>\n",
       "      <td>47.189</td>\n",
       "      <td>Ciénaga</td>\n",
       "    </tr>\n",
       "    <tr>\n",
       "      <th>1122</th>\n",
       "      <td>Región Caribe</td>\n",
       "      <td>8</td>\n",
       "      <td>Atlántico</td>\n",
       "      <td>8.56</td>\n",
       "      <td>Ponedera</td>\n",
       "    </tr>\n",
       "  </tbody>\n",
       "</table>\n",
       "<p>1123 rows × 5 columns</p>\n",
       "</div>"
      ],
      "text/plain": [
       "                               region c_digo_dane_del_departamento  \\\n",
       "0     Región Eje Cafetero - Antioquia                            5   \n",
       "1     Región Eje Cafetero - Antioquia                            5   \n",
       "2     Región Eje Cafetero - Antioquia                            5   \n",
       "3     Región Eje Cafetero - Antioquia                            5   \n",
       "4     Región Eje Cafetero - Antioquia                            5   \n",
       "...                               ...                          ...   \n",
       "1118  Región Eje Cafetero - Antioquia                           17   \n",
       "1119                  Región Pacífico                           52   \n",
       "1120                  Región Pacífico                           76   \n",
       "1121                    Región Caribe                           47   \n",
       "1122                    Región Caribe                            8   \n",
       "\n",
       "         departamento c_digo_dane_del_municipio     municipio  \n",
       "0           Antioquia                     5.001      Medellín  \n",
       "1           Antioquia                     5.002     Abejorral  \n",
       "2           Antioquia                     5.004      Abriaquí  \n",
       "3           Antioquia                     5.021    Alejandría  \n",
       "4           Antioquia                      5.03         Amagá  \n",
       "...               ...                       ...           ...  \n",
       "1118           Caldas                    17.444   Marquetalia  \n",
       "1119           Nariño                    52.051      Arboleda  \n",
       "1120  Valle del Cauca                    76.109  Buenaventura  \n",
       "1121        Magdalena                    47.189       Ciénaga  \n",
       "1122        Atlántico                      8.56      Ponedera  \n",
       "\n",
       "[1123 rows x 5 columns]"
      ]
     },
     "execution_count": 9,
     "metadata": {},
     "output_type": "execute_result"
    }
   ],
   "source": [
    "utils.getcodedane()"
   ]
  },
  {
   "cell_type": "code",
   "execution_count": null,
   "id": "94c1c1c7",
   "metadata": {},
   "outputs": [],
   "source": []
  }
 ],
 "metadata": {
  "kernelspec": {
   "display_name": "Python 3 (ipykernel)",
   "language": "python",
   "name": "python3"
  },
  "language_info": {
   "codemirror_mode": {
    "name": "ipython",
    "version": 3
   },
   "file_extension": ".py",
   "mimetype": "text/x-python",
   "name": "python",
   "nbconvert_exporter": "python",
   "pygments_lexer": "ipython3",
   "version": "3.9.16"
  }
 },
 "nbformat": 4,
 "nbformat_minor": 5
}
